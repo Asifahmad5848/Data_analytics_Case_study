{
 "cells": [
  {
   "cell_type": "code",
   "execution_count": 1,
   "metadata": {
    "collapsed": true
   },
   "outputs": [],
   "source": [
    "import numpy as np \n",
    "import pandas as pd \n"
   ]
  },
  {
   "cell_type": "code",
   "execution_count": 21,
   "metadata": {},
   "outputs": [
    {
     "data": {
      "text/html": [
       "<div>\n",
       "<style>\n",
       "    .dataframe thead tr:only-child th {\n",
       "        text-align: right;\n",
       "    }\n",
       "\n",
       "    .dataframe thead th {\n",
       "        text-align: left;\n",
       "    }\n",
       "\n",
       "    .dataframe tbody tr th {\n",
       "        vertical-align: top;\n",
       "    }\n",
       "</style>\n",
       "<table border=\"1\" class=\"dataframe\">\n",
       "  <thead>\n",
       "    <tr style=\"text-align: right;\">\n",
       "      <th></th>\n",
       "      <th>Batch</th>\n",
       "      <th>User_ID</th>\n",
       "      <th>Score</th>\n",
       "    </tr>\n",
       "  </thead>\n",
       "  <tbody>\n",
       "    <tr>\n",
       "      <th>0</th>\n",
       "      <td>AI_ELITE_7</td>\n",
       "      <td>uid_149</td>\n",
       "      <td>6 / 7</td>\n",
       "    </tr>\n",
       "    <tr>\n",
       "      <th>1</th>\n",
       "      <td>AI_ELITE_7</td>\n",
       "      <td>uid_148</td>\n",
       "      <td>6 / 7</td>\n",
       "    </tr>\n",
       "    <tr>\n",
       "      <th>2</th>\n",
       "      <td>AI_ELITE_7</td>\n",
       "      <td>uid_147</td>\n",
       "      <td>7 / 7</td>\n",
       "    </tr>\n",
       "    <tr>\n",
       "      <th>3</th>\n",
       "      <td>AI_ELITE_7</td>\n",
       "      <td>uid_146</td>\n",
       "      <td>7 / 7</td>\n",
       "    </tr>\n",
       "    <tr>\n",
       "      <th>4</th>\n",
       "      <td>AI_ELITE_7</td>\n",
       "      <td>uid_145</td>\n",
       "      <td>4 / 7</td>\n",
       "    </tr>\n",
       "  </tbody>\n",
       "</table>\n",
       "</div>"
      ],
      "text/plain": [
       "       Batch  User_ID     Score   \n",
       "0  AI_ELITE_7  uid_149       6 / 7\n",
       "1  AI_ELITE_7  uid_148       6 / 7\n",
       "2  AI_ELITE_7  uid_147       7 / 7\n",
       "3  AI_ELITE_7  uid_146       7 / 7\n",
       "4  AI_ELITE_7  uid_145       4 / 7"
      ]
     },
     "execution_count": 21,
     "metadata": {},
     "output_type": "execute_result"
    }
   ],
   "source": [
    "df = pd.read_csv(\"C:\\\\Users\\\\user\\\\Desktop\\\\scores_data.csv\")\n",
    "df.head()"
   ]
  },
  {
   "cell_type": "code",
   "execution_count": 22,
   "metadata": {},
   "outputs": [
    {
     "name": "stdout",
     "output_type": "stream",
     "text": [
      "<class 'pandas.core.frame.DataFrame'>\n",
      "RangeIndex: 149 entries, 0 to 148\n",
      "Data columns (total 3 columns):\n",
      "Batch          149 non-null object\n",
      "User_ID        149 non-null object\n",
      "   Score       149 non-null object\n",
      "dtypes: object(3)\n",
      "memory usage: 3.6+ KB\n"
     ]
    }
   ],
   "source": [
    "df.info()"
   ]
  },
  {
   "cell_type": "code",
   "execution_count": 26,
   "metadata": {},
   "outputs": [
    {
     "data": {
      "text/plain": [
       "0      AI_ELITE_7\n",
       "1      AI_ELITE_7\n",
       "2      AI_ELITE_7\n",
       "3      AI_ELITE_7\n",
       "4      AI_ELITE_7\n",
       "5      AI_ELITE_7\n",
       "6      AI_ELITE_7\n",
       "7      AI_ELITE_7\n",
       "8      AI_ELITE_7\n",
       "9      AI_ELITE_7\n",
       "10     AI_ELITE_7\n",
       "11     AI_ELITE_7\n",
       "12     AI_ELITE_7\n",
       "13     AI_ELITE_7\n",
       "14     AI_ELITE_7\n",
       "15     AI_ELITE_7\n",
       "16     AI_ELITE_7\n",
       "17     AI_ELITE_7\n",
       "18     AI_ELITE_7\n",
       "19     AI_ELITE_7\n",
       "20     AI_ELITE_7\n",
       "21     AI_ELITE_7\n",
       "22     AI_ELITE_7\n",
       "23     AI_ELITE_7\n",
       "24     AI_ELITE_7\n",
       "25     AI_ELITE_7\n",
       "26     AI_ELITE_7\n",
       "27     AI_ELITE_7\n",
       "28     AI_ELITE_7\n",
       "29     AI_ELITE_7\n",
       "          ...    \n",
       "119    AI_ELITE_4\n",
       "120    AI_ELITE_4\n",
       "121    AI_ELITE_4\n",
       "122    AI_ELITE_4\n",
       "123    AI_ELITE_4\n",
       "124    AI_ELITE_4\n",
       "125    AI_ELITE_4\n",
       "126    AI_ELITE_4\n",
       "127    AI_ELITE_4\n",
       "128    AI_ELITE_4\n",
       "129    AI_ELITE_4\n",
       "130    AI_ELITE_4\n",
       "131    AI_ELITE_4\n",
       "132    AI_ELITE_4\n",
       "133    AI_ELITE_4\n",
       "134    AI_ELITE_4\n",
       "135    AI_ELITE_4\n",
       "136    AI_ELITE_4\n",
       "137    AI_ELITE_4\n",
       "138    AI_ELITE_4\n",
       "139    AI_ELITE_4\n",
       "140    AI_ELITE_4\n",
       "141    AI_ELITE_4\n",
       "142    AI_ELITE_4\n",
       "143    AI_ELITE_4\n",
       "144    AI_ELITE_4\n",
       "145    AI_ELITE_4\n",
       "146    AI_ELITE_4\n",
       "147    AI_ELITE_4\n",
       "148    AI_ELITE_4\n",
       "Name: Batch , Length: 149, dtype: object"
      ]
     },
     "execution_count": 26,
     "metadata": {},
     "output_type": "execute_result"
    }
   ],
   "source": [
    "df['Batch ']"
   ]
  },
  {
   "cell_type": "code",
   "execution_count": 27,
   "metadata": {},
   "outputs": [
    {
     "data": {
      "text/plain": [
       "0      uid_149\n",
       "1      uid_148\n",
       "2      uid_147\n",
       "3      uid_146\n",
       "4      uid_145\n",
       "5      uid_144\n",
       "6      uid_143\n",
       "7      uid_142\n",
       "8      uid_141\n",
       "9      uid_140\n",
       "10     uid_139\n",
       "11     uid_138\n",
       "12     uid_137\n",
       "13     uid_136\n",
       "14     uid_135\n",
       "15     uid_134\n",
       "16     uid_133\n",
       "17     uid_132\n",
       "18     uid_131\n",
       "19     uid_130\n",
       "20     uid_129\n",
       "21     uid_128\n",
       "22     uid_127\n",
       "23     uid_126\n",
       "24     uid_125\n",
       "25     uid_124\n",
       "26     uid_123\n",
       "27     uid_122\n",
       "28     uid_121\n",
       "29     uid_120\n",
       "        ...   \n",
       "119     uid_30\n",
       "120     uid_29\n",
       "121     uid_28\n",
       "122     uid_27\n",
       "123     uid_26\n",
       "124     uid_25\n",
       "125     uid_24\n",
       "126     uid_23\n",
       "127     uid_22\n",
       "128     uid_21\n",
       "129     uid_20\n",
       "130     uid_19\n",
       "131     uid_18\n",
       "132     uid_17\n",
       "133     uid_16\n",
       "134     uid_15\n",
       "135     uid_14\n",
       "136     uid_13\n",
       "137     uid_12\n",
       "138     uid_11\n",
       "139     uid_10\n",
       "140      uid_9\n",
       "141      uid_8\n",
       "142      uid_7\n",
       "143      uid_6\n",
       "144      uid_5\n",
       "145      uid_4\n",
       "146      uid_3\n",
       "147      uid_2\n",
       "148      uid_1\n",
       "Name: User_ID , Length: 149, dtype: object"
      ]
     },
     "execution_count": 27,
     "metadata": {},
     "output_type": "execute_result"
    }
   ],
   "source": [
    "df['User_ID ']"
   ]
  },
  {
   "cell_type": "code",
   "execution_count": 29,
   "metadata": {},
   "outputs": [
    {
     "data": {
      "text/plain": [
       "Index(['Batch ', 'User_ID ', '   Score   '], dtype='object')"
      ]
     },
     "execution_count": 29,
     "metadata": {},
     "output_type": "execute_result"
    }
   ],
   "source": [
    "df.columns"
   ]
  },
  {
   "cell_type": "code",
   "execution_count": 41,
   "metadata": {},
   "outputs": [],
   "source": [
    "df.columns = df.columns.str.replace(' ', '')"
   ]
  },
  {
   "cell_type": "code",
   "execution_count": 42,
   "metadata": {},
   "outputs": [
    {
     "data": {
      "text/plain": [
       "Index(['Batch', 'User_ID', 'Score'], dtype='object')"
      ]
     },
     "execution_count": 42,
     "metadata": {},
     "output_type": "execute_result"
    }
   ],
   "source": [
    "df.columns"
   ]
  },
  {
   "cell_type": "code",
   "execution_count": 43,
   "metadata": {},
   "outputs": [
    {
     "data": {
      "text/plain": [
       "0      6 / 7\n",
       "1      6 / 7\n",
       "2      7 / 7\n",
       "3      7 / 7\n",
       "4      4 / 7\n",
       "5      7 / 7\n",
       "6      5 / 7\n",
       "7      7 / 7\n",
       "8      3 / 7\n",
       "9      6 / 7\n",
       "10     6 / 7\n",
       "11     3 / 7\n",
       "12     6 / 7\n",
       "13     5 / 7\n",
       "14     6 / 7\n",
       "15     7 / 7\n",
       "16     7 / 7\n",
       "17     7 / 7\n",
       "18     5 / 7\n",
       "19     7 / 7\n",
       "20     4 / 7\n",
       "21     5 / 7\n",
       "22     6 / 7\n",
       "23     5 / 7\n",
       "24     7 / 7\n",
       "25     3 / 7\n",
       "26     4 / 7\n",
       "27     6 / 7\n",
       "28     4 / 7\n",
       "29     5 / 7\n",
       "       ...  \n",
       "119    4 / 7\n",
       "120    3 / 7\n",
       "121    3 / 7\n",
       "122    5 / 7\n",
       "123    4 / 7\n",
       "124    5 / 7\n",
       "125    3 / 7\n",
       "126    3 / 7\n",
       "127    3 / 7\n",
       "128    4 / 7\n",
       "129    1 / 7\n",
       "130    3 / 7\n",
       "131    4 / 7\n",
       "132    4 / 7\n",
       "133    4 / 7\n",
       "134    4 / 7\n",
       "135    0 / 7\n",
       "136    5 / 7\n",
       "137    4 / 7\n",
       "138    4 / 7\n",
       "139    7 / 7\n",
       "140    4 / 7\n",
       "141    5 / 7\n",
       "142    4 / 7\n",
       "143    3 / 7\n",
       "144    4 / 7\n",
       "145    4 / 7\n",
       "146    4 / 7\n",
       "147    3 / 7\n",
       "148    2 / 7\n",
       "Name: Score, Length: 149, dtype: object"
      ]
     },
     "execution_count": 43,
     "metadata": {},
     "output_type": "execute_result"
    }
   ],
   "source": [
    "df['Score']"
   ]
  },
  {
   "cell_type": "code",
   "execution_count": 45,
   "metadata": {},
   "outputs": [],
   "source": [
    "df['Score'] = df['Score'].str.replace('/ 7', '')\n"
   ]
  },
  {
   "cell_type": "code",
   "execution_count": 46,
   "metadata": {},
   "outputs": [
    {
     "data": {
      "text/plain": [
       "0      6 \n",
       "1      6 \n",
       "2      7 \n",
       "3      7 \n",
       "4      4 \n",
       "5      7 \n",
       "6      5 \n",
       "7      7 \n",
       "8      3 \n",
       "9      6 \n",
       "10     6 \n",
       "11     3 \n",
       "12     6 \n",
       "13     5 \n",
       "14     6 \n",
       "15     7 \n",
       "16     7 \n",
       "17     7 \n",
       "18     5 \n",
       "19     7 \n",
       "20     4 \n",
       "21     5 \n",
       "22     6 \n",
       "23     5 \n",
       "24     7 \n",
       "25     3 \n",
       "26     4 \n",
       "27     6 \n",
       "28     4 \n",
       "29     5 \n",
       "       ..\n",
       "119    4 \n",
       "120    3 \n",
       "121    3 \n",
       "122    5 \n",
       "123    4 \n",
       "124    5 \n",
       "125    3 \n",
       "126    3 \n",
       "127    3 \n",
       "128    4 \n",
       "129    1 \n",
       "130    3 \n",
       "131    4 \n",
       "132    4 \n",
       "133    4 \n",
       "134    4 \n",
       "135    0 \n",
       "136    5 \n",
       "137    4 \n",
       "138    4 \n",
       "139    7 \n",
       "140    4 \n",
       "141    5 \n",
       "142    4 \n",
       "143    3 \n",
       "144    4 \n",
       "145    4 \n",
       "146    4 \n",
       "147    3 \n",
       "148    2 \n",
       "Name: Score, Length: 149, dtype: object"
      ]
     },
     "execution_count": 46,
     "metadata": {},
     "output_type": "execute_result"
    }
   ],
   "source": [
    "df['Score']"
   ]
  },
  {
   "cell_type": "code",
   "execution_count": 48,
   "metadata": {},
   "outputs": [],
   "source": [
    "df['Score'] = df['Score'].astype('float')"
   ]
  },
  {
   "cell_type": "code",
   "execution_count": 49,
   "metadata": {},
   "outputs": [
    {
     "data": {
      "text/plain": [
       "0      6.0\n",
       "1      6.0\n",
       "2      7.0\n",
       "3      7.0\n",
       "4      4.0\n",
       "5      7.0\n",
       "6      5.0\n",
       "7      7.0\n",
       "8      3.0\n",
       "9      6.0\n",
       "10     6.0\n",
       "11     3.0\n",
       "12     6.0\n",
       "13     5.0\n",
       "14     6.0\n",
       "15     7.0\n",
       "16     7.0\n",
       "17     7.0\n",
       "18     5.0\n",
       "19     7.0\n",
       "20     4.0\n",
       "21     5.0\n",
       "22     6.0\n",
       "23     5.0\n",
       "24     7.0\n",
       "25     3.0\n",
       "26     4.0\n",
       "27     6.0\n",
       "28     4.0\n",
       "29     5.0\n",
       "      ... \n",
       "119    4.0\n",
       "120    3.0\n",
       "121    3.0\n",
       "122    5.0\n",
       "123    4.0\n",
       "124    5.0\n",
       "125    3.0\n",
       "126    3.0\n",
       "127    3.0\n",
       "128    4.0\n",
       "129    1.0\n",
       "130    3.0\n",
       "131    4.0\n",
       "132    4.0\n",
       "133    4.0\n",
       "134    4.0\n",
       "135    0.0\n",
       "136    5.0\n",
       "137    4.0\n",
       "138    4.0\n",
       "139    7.0\n",
       "140    4.0\n",
       "141    5.0\n",
       "142    4.0\n",
       "143    3.0\n",
       "144    4.0\n",
       "145    4.0\n",
       "146    4.0\n",
       "147    3.0\n",
       "148    2.0\n",
       "Name: Score, Length: 149, dtype: float64"
      ]
     },
     "execution_count": 49,
     "metadata": {},
     "output_type": "execute_result"
    }
   ],
   "source": [
    "df['Score']"
   ]
  },
  {
   "cell_type": "code",
   "execution_count": 57,
   "metadata": {},
   "outputs": [
    {
     "data": {
      "text/plain": [
       "<matplotlib.axes._subplots.AxesSubplot at 0x1e773801c50>"
      ]
     },
     "execution_count": 57,
     "metadata": {},
     "output_type": "execute_result"
    },
    {
     "data": {
      "image/png": "[encoded data removed]",
      "text/plain": [
       "<matplotlib.figure.Figure at 0x1e7737f2978>"
      ]
     },
     "metadata": {},
     "output_type": "display_data"
    }
   ],
   "source": [
    "%matplotlib inline\n",
    "import matplotlib as plt\n",
    "df['Score'].plot(kind='hist')"
   ]
  },
  {
   "cell_type": "code",
   "execution_count": 58,
   "metadata": {},
   "outputs": [
    {
     "data": {
      "text/plain": [
       "<matplotlib.axes._subplots.AxesSubplot at 0x1e7737f24a8>"
      ]
     },
     "execution_count": 58,
     "metadata": {},
     "output_type": "execute_result"
    },
    {
     "data": {
      "image/png": "[encoded data removed]",
      "text/plain": [
       "<matplotlib.figure.Figure at 0x1e773801ba8>"
      ]
     },
     "metadata": {},
     "output_type": "display_data"
    }
   ],
   "source": [
    "import seaborn as sns\n",
    "sns.barplot(x=df['Batch'],y=df['Score'])"
   ]
  },
  {
   "cell_type": "code",
   "execution_count": 59,
   "metadata": {},
   "outputs": [
    {
     "data": {
      "text/html": [
       "<div>\n",
       "<style>\n",
       "    .dataframe thead tr:only-child th {\n",
       "        text-align: right;\n",
       "    }\n",
       "\n",
       "    .dataframe thead th {\n",
       "        text-align: left;\n",
       "    }\n",
       "\n",
       "    .dataframe tbody tr th {\n",
       "        vertical-align: top;\n",
       "    }\n",
       "</style>\n",
       "<table border=\"1\" class=\"dataframe\">\n",
       "  <thead>\n",
       "    <tr style=\"text-align: right;\">\n",
       "      <th></th>\n",
       "      <th>Score</th>\n",
       "    </tr>\n",
       "  </thead>\n",
       "  <tbody>\n",
       "    <tr>\n",
       "      <th>count</th>\n",
       "      <td>149.000000</td>\n",
       "    </tr>\n",
       "    <tr>\n",
       "      <th>mean</th>\n",
       "      <td>4.382550</td>\n",
       "    </tr>\n",
       "    <tr>\n",
       "      <th>std</th>\n",
       "      <td>1.592199</td>\n",
       "    </tr>\n",
       "    <tr>\n",
       "      <th>min</th>\n",
       "      <td>0.000000</td>\n",
       "    </tr>\n",
       "    <tr>\n",
       "      <th>25%</th>\n",
       "      <td>3.000000</td>\n",
       "    </tr>\n",
       "    <tr>\n",
       "      <th>50%</th>\n",
       "      <td>4.000000</td>\n",
       "    </tr>\n",
       "    <tr>\n",
       "      <th>75%</th>\n",
       "      <td>5.000000</td>\n",
       "    </tr>\n",
       "    <tr>\n",
       "      <th>max</th>\n",
       "      <td>7.000000</td>\n",
       "    </tr>\n",
       "  </tbody>\n",
       "</table>\n",
       "</div>"
      ],
      "text/plain": [
       "            Score\n",
       "count  149.000000\n",
       "mean     4.382550\n",
       "std      1.592199\n",
       "min      0.000000\n",
       "25%      3.000000\n",
       "50%      4.000000\n",
       "75%      5.000000\n",
       "max      7.000000"
      ]
     },
     "execution_count": 59,
     "metadata": {},
     "output_type": "execute_result"
    }
   ],
   "source": [
    "df.describe()"
   ]
  },
  {
   "cell_type": "code",
   "execution_count": 62,
   "metadata": {
    "collapsed": true
   },
   "outputs": [],
   "source": [
    "a = df[df['Batch'] == 'AI_ELITE_7']"
   ]
  },
  {
   "cell_type": "code",
   "execution_count": 64,
   "metadata": {},
   "outputs": [
    {
     "data": {
      "text/plain": [
       "Score    4.229167\n",
       "dtype: float64"
      ]
     },
     "execution_count": 64,
     "metadata": {},
     "output_type": "execute_result"
    }
   ],
   "source": [
    "df[df['Batch'] == 'AI_ELITE_6'].mean()"
   ]
  },
  {
   "cell_type": "code",
   "execution_count": 65,
   "metadata": {},
   "outputs": [
    {
     "data": {
      "text/plain": [
       "Score    3.791667\n",
       "dtype: float64"
      ]
     },
     "execution_count": 65,
     "metadata": {},
     "output_type": "execute_result"
    }
   ],
   "source": [
    "df[df['Batch'] == 'AI_ELITE_4'].mean()"
   ]
  },
  {
   "cell_type": "code",
   "execution_count": 66,
   "metadata": {},
   "outputs": [
    {
     "data": {
      "text/plain": [
       "4.0    40\n",
       "5.0    32\n",
       "3.0    24\n",
       "7.0    18\n",
       "6.0    18\n",
       "2.0    12\n",
       "1.0     3\n",
       "0.0     2\n",
       "Name: Score, dtype: int64"
      ]
     },
     "execution_count": 66,
     "metadata": {},
     "output_type": "execute_result"
    }
   ],
   "source": [
    "df['Score'].value_counts()"
   ]
  },
  {
   "cell_type": "code",
   "execution_count": 72,
   "metadata": {},
   "outputs": [
    {
     "data": {
      "text/html": [
       "<div>\n",
       "<style>\n",
       "    .dataframe thead tr:only-child th {\n",
       "        text-align: right;\n",
       "    }\n",
       "\n",
       "    .dataframe thead th {\n",
       "        text-align: left;\n",
       "    }\n",
       "\n",
       "    .dataframe tbody tr th {\n",
       "        vertical-align: top;\n",
       "    }\n",
       "</style>\n",
       "<table border=\"1\" class=\"dataframe\">\n",
       "  <thead>\n",
       "    <tr style=\"text-align: right;\">\n",
       "      <th></th>\n",
       "      <th>Score</th>\n",
       "    </tr>\n",
       "    <tr>\n",
       "      <th>Batch</th>\n",
       "      <th></th>\n",
       "    </tr>\n",
       "  </thead>\n",
       "  <tbody>\n",
       "    <tr>\n",
       "      <th>AI_ELITE_4</th>\n",
       "      <td>3.791667</td>\n",
       "    </tr>\n",
       "    <tr>\n",
       "      <th>AI_ELITE_6</th>\n",
       "      <td>4.229167</td>\n",
       "    </tr>\n",
       "    <tr>\n",
       "      <th>AI_ELITE_7</th>\n",
       "      <td>5.056604</td>\n",
       "    </tr>\n",
       "  </tbody>\n",
       "</table>\n",
       "</div>"
      ],
      "text/plain": [
       "               Score\n",
       "Batch               \n",
       "AI_ELITE_4  3.791667\n",
       "AI_ELITE_6  4.229167\n",
       "AI_ELITE_7  5.056604"
      ]
     },
     "execution_count": 72,
     "metadata": {},
     "output_type": "execute_result"
    }
   ],
   "source": [
    "df1=df.groupby('Batch')[[\"Score\"]].mean()\n",
    "df1"
   ]
  },
  {
   "cell_type": "code",
   "execution_count": 73,
   "metadata": {},
   "outputs": [
    {
     "data": {
      "text/plain": [
       "<matplotlib.axes._subplots.AxesSubplot at 0x1e7737cd518>"
      ]
     },
     "execution_count": 73,
     "metadata": {},
     "output_type": "execute_result"
    },
    {
     "data": {
      "image/png": "[encoded data removed]",
      "text/plain": [
       "<matplotlib.figure.Figure at 0x1e7737886a0>"
      ]
     },
     "metadata": {},
     "output_type": "display_data"
    }
   ],
   "source": [
    "Data = pd.DataFrame(df1).plot(kind='bar')\n",
    "Data"
   ]
  }
 ],
 "metadata": {
  "kernelspec": {
   "display_name": "Python 3",
   "language": "python",
   "name": "python3"
  },
  "language_info": {
   "codemirror_mode": {
    "name": "ipython",
    "version": 3
   },
   "file_extension": ".py",
   "mimetype": "text/x-python",
   "name": "python",
   "nbconvert_exporter": "python",
   "pygments_lexer": "ipython3",
   "version": "3.6.1"
  }
 },
 "nbformat": 4,
 "nbformat_minor": 2
}
